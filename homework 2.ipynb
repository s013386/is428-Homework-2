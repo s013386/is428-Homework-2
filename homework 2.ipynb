{
 "cells": [
  {
   "cell_type": "code",
   "execution_count": 1,
   "id": "af158faa-78cf-4c13-9dbb-c2cbb0ba63d2",
   "metadata": {},
   "outputs": [],
   "source": [
    "import pandas as pd"
   ]
  },
  {
   "cell_type": "code",
   "execution_count": 2,
   "id": "8947c4a7-bdb1-493a-bb6c-db3c0b66a924",
   "metadata": {},
   "outputs": [],
   "source": [
    "from bs4 import BeautifulSoup"
   ]
  },
  {
   "cell_type": "code",
   "execution_count": 3,
   "id": "02035342-403e-4b1c-b5b2-03d9d8063d49",
   "metadata": {},
   "outputs": [],
   "source": [
    "from IPython.display import HTML"
   ]
  },
  {
   "cell_type": "code",
   "execution_count": 4,
   "id": "070ed15d-edb6-49ba-a86c-a804ad861872",
   "metadata": {},
   "outputs": [],
   "source": [
    "from sklearn.metrics import roc_auc_score, roc_curve"
   ]
  },
  {
   "cell_type": "code",
   "execution_count": 5,
   "id": "9500a6de-f494-474f-a770-19809f3cd208",
   "metadata": {},
   "outputs": [],
   "source": [
    "from sklearn.model_selection import train_test_split\n",
    "from sklearn.linear_model import LogisticRegression\n",
    "from sklearn.tree import DecisionTreeClassifier\n",
    "from sklearn.naive_bayes import MultinomialNB\n",
    "from sklearn.metrics import accuracy_score, classification_report, confusion_matrix"
   ]
  },
  {
   "cell_type": "code",
   "execution_count": 6,
   "id": "e05fde6a-ad8a-432f-ad54-19a08d76adbf",
   "metadata": {},
   "outputs": [],
   "source": [
    "from sklearn.svm import LinearSVC"
   ]
  },
  {
   "cell_type": "code",
   "execution_count": 7,
   "id": "12d129c3-25cc-471e-8d13-560cdad24bfe",
   "metadata": {},
   "outputs": [],
   "source": [
    "from sklearn.svm import SVC"
   ]
  },
  {
   "cell_type": "code",
   "execution_count": 8,
   "id": "7a5ff4db-2d2f-4496-9271-7482205f98e5",
   "metadata": {},
   "outputs": [],
   "source": [
    "from sklearn.ensemble import RandomForestClassifier"
   ]
  },
  {
   "cell_type": "code",
   "execution_count": 9,
   "id": "9e926925-7f00-4d40-b979-dbc0ff5cc0eb",
   "metadata": {},
   "outputs": [],
   "source": [
    "from sklearn.dummy import DummyClassifier"
   ]
  },
  {
   "cell_type": "code",
   "execution_count": 10,
   "id": "2cc235a5-c848-4554-8eee-5944656ca033",
   "metadata": {},
   "outputs": [],
   "source": [
    "from sklearn.model_selection import cross_val_score, KFold"
   ]
  },
  {
   "cell_type": "code",
   "execution_count": 11,
   "id": "3c95fce7-932e-4f55-a210-1db605862ec7",
   "metadata": {},
   "outputs": [],
   "source": [
    "import matplotlib.pyplot as plt"
   ]
  },
  {
   "cell_type": "code",
   "execution_count": 12,
   "id": "3e89eb08-03a5-47cf-b542-10a166fd1bc7",
   "metadata": {},
   "outputs": [],
   "source": [
    "red_df = pd.read_csv('red_wine.csv')"
   ]
  },
  {
   "cell_type": "code",
   "execution_count": 13,
   "id": "ae8661a3-38b7-40b0-bfd3-0fd94fc4b8d8",
   "metadata": {},
   "outputs": [],
   "source": [
    "white_df=pd.read_csv('white_wine.csv')"
   ]
  },
  {
   "cell_type": "code",
   "execution_count": 14,
   "id": "f36fcc27-9047-4a57-aa41-6a202a310b56",
   "metadata": {},
   "outputs": [
    {
     "name": "stdout",
     "output_type": "stream",
     "text": [
      "   Column Name Data Type  Number of Unique Values Min Value Max Value\n",
      "0  citric acid   float64                       74       0.0       1.0\n",
      "1    sulphates   float64                       77      0.25       2.0\n",
      "2      alcohol   float64                       49       8.0      12.8\n",
      "3         type    object                        2      high       low\n"
     ]
    }
   ],
   "source": [
    "profile_data = []\n",
    "\n",
    "# Iterate through columns in the DataFrame\n",
    "for column_name, column_data in red_df.items():\n",
    "    column_info = {\n",
    "        'Column Name': column_name,\n",
    "        'Data Type': column_data.dtype,\n",
    "        'Number of Unique Values': column_data.nunique(),\n",
    "        'Min Value': column_data.min(),\n",
    "        'Max Value': column_data.max()\n",
    "        \n",
    "    }\n",
    "    profile_data.append(column_info)\n",
    "\n",
    "# Create a DataFrame from the profile_data list\n",
    "profile_df = pd.DataFrame(profile_data)\n",
    "print(profile_df)"
   ]
  },
  {
   "cell_type": "code",
   "execution_count": 15,
   "id": "504bb89a-7c87-4c07-9b95-f92ea1041901",
   "metadata": {},
   "outputs": [],
   "source": [
    "html_table = profile_df.to_html(classes='table table-bordered', index=False)"
   ]
  },
  {
   "cell_type": "code",
   "execution_count": 16,
   "id": "b2258175-1b4c-4f06-b7f0-fba7898ef9aa",
   "metadata": {},
   "outputs": [],
   "source": [
    "soup = BeautifulSoup(html_table, 'html.parser')\n",
    "pretty_html = soup.prettify()"
   ]
  },
  {
   "cell_type": "code",
   "execution_count": 17,
   "id": "24173085-6820-48df-b327-9c152817dcee",
   "metadata": {},
   "outputs": [
    {
     "data": {
      "text/html": [
       "<table border=\"1\" class=\"dataframe table table-bordered\">\n",
       " <thead>\n",
       "  <tr style=\"text-align: right;\">\n",
       "   <th>\n",
       "    Column Name\n",
       "   </th>\n",
       "   <th>\n",
       "    Data Type\n",
       "   </th>\n",
       "   <th>\n",
       "    Number of Unique Values\n",
       "   </th>\n",
       "   <th>\n",
       "    Min Value\n",
       "   </th>\n",
       "   <th>\n",
       "    Max Value\n",
       "   </th>\n",
       "  </tr>\n",
       " </thead>\n",
       " <tbody>\n",
       "  <tr>\n",
       "   <td>\n",
       "    citric acid\n",
       "   </td>\n",
       "   <td>\n",
       "    float64\n",
       "   </td>\n",
       "   <td>\n",
       "    74\n",
       "   </td>\n",
       "   <td>\n",
       "    0.0\n",
       "   </td>\n",
       "   <td>\n",
       "    1.0\n",
       "   </td>\n",
       "  </tr>\n",
       "  <tr>\n",
       "   <td>\n",
       "    sulphates\n",
       "   </td>\n",
       "   <td>\n",
       "    float64\n",
       "   </td>\n",
       "   <td>\n",
       "    77\n",
       "   </td>\n",
       "   <td>\n",
       "    0.25\n",
       "   </td>\n",
       "   <td>\n",
       "    2.0\n",
       "   </td>\n",
       "  </tr>\n",
       "  <tr>\n",
       "   <td>\n",
       "    alcohol\n",
       "   </td>\n",
       "   <td>\n",
       "    float64\n",
       "   </td>\n",
       "   <td>\n",
       "    49\n",
       "   </td>\n",
       "   <td>\n",
       "    8.0\n",
       "   </td>\n",
       "   <td>\n",
       "    12.8\n",
       "   </td>\n",
       "  </tr>\n",
       "  <tr>\n",
       "   <td>\n",
       "    type\n",
       "   </td>\n",
       "   <td>\n",
       "    object\n",
       "   </td>\n",
       "   <td>\n",
       "    2\n",
       "   </td>\n",
       "   <td>\n",
       "    high\n",
       "   </td>\n",
       "   <td>\n",
       "    low\n",
       "   </td>\n",
       "  </tr>\n",
       " </tbody>\n",
       "</table>\n"
      ],
      "text/plain": [
       "<IPython.core.display.HTML object>"
      ]
     },
     "metadata": {},
     "output_type": "display_data"
    }
   ],
   "source": [
    "display(HTML(pretty_html))"
   ]
  },
  {
   "cell_type": "code",
   "execution_count": 18,
   "id": "6372a1d3-9c0d-41d9-ae5d-53a5f18f4c70",
   "metadata": {},
   "outputs": [],
   "source": [
    "x = red_df.drop('type', axis=1)\n",
    "y = red_df['type']\n",
    "red_y=[]\n",
    "for i in y:\n",
    "    if i=='high':\n",
    "        red_y.append(1);\n",
    "    else:\n",
    "        red_y.append(0)\n",
    "\n"
   ]
  },
  {
   "cell_type": "code",
   "execution_count": 19,
   "id": "218b5bde-f025-446d-a56d-b80c9d9126c4",
   "metadata": {},
   "outputs": [],
   "source": [
    "white_x = white_df.drop('type', axis=1)\n",
    "wy = white_df['type']\n",
    "white_y=[]\n",
    "for i in wy:\n",
    "    if i=='high':\n",
    "        white_y.append(1);\n",
    "    else:\n",
    "        white_y.append(0)"
   ]
  },
  {
   "cell_type": "code",
   "execution_count": 20,
   "id": "c1ad7b57-7375-4fcb-b9d4-c162b50ff18d",
   "metadata": {},
   "outputs": [],
   "source": [
    "k_folds = 10"
   ]
  },
  {
   "cell_type": "code",
   "execution_count": 21,
   "id": "4b360345-432b-4e41-bd3a-7f1c75be1473",
   "metadata": {},
   "outputs": [],
   "source": [
    "kf = KFold(n_splits=k_folds, shuffle=True)"
   ]
  },
  {
   "cell_type": "code",
   "execution_count": 22,
   "id": "94bf9335-e0ad-4a10-b8a8-40c38f1cb5cc",
   "metadata": {},
   "outputs": [],
   "source": [
    "logisticmodel = LogisticRegression()"
   ]
  },
  {
   "cell_type": "code",
   "execution_count": 23,
   "id": "896b444a-fd34-4362-af88-c9a54f7cf700",
   "metadata": {},
   "outputs": [
    {
     "name": "stdout",
     "output_type": "stream",
     "text": [
      "Accuracy Scores for 10-Fold Cross-Validation:\n",
      "Mean Accuracy: 0.7827\n",
      "auc Scores for 10-Fold Cross-Validation:\n",
      "Mean auc: 0.8755\n"
     ]
    }
   ],
   "source": [
    "scores = cross_val_score(logisticmodel, x, red_y, cv=kf, scoring='accuracy')\n",
    "print(f'Accuracy Scores for {k_folds}-Fold Cross-Validation:')\n",
    "mean_accuracy = scores.mean()\n",
    "print(f'Mean Accuracy: {mean_accuracy:.4f}')\n",
    "\n",
    "scores = cross_val_score(logisticmodel, x, red_y, cv=kf, scoring='roc_auc')\n",
    "print(f'auc Scores for {k_folds}-Fold Cross-Validation:')\n",
    "mean_accuracy = scores.mean()\n",
    "print(f'Mean auc: {mean_accuracy:.4f}')"
   ]
  },
  {
   "cell_type": "code",
   "execution_count": 24,
   "id": "51db3c8c-5401-4986-8092-4087d15018b3",
   "metadata": {},
   "outputs": [],
   "source": [
    "decisiontree=DecisionTreeClassifier()"
   ]
  },
  {
   "cell_type": "code",
   "execution_count": 25,
   "id": "9386d8c2-7f0d-4e50-b586-41e0f4306ec0",
   "metadata": {},
   "outputs": [
    {
     "name": "stdout",
     "output_type": "stream",
     "text": [
      "Accuracy Scores for 10-Fold Cross-Validation:\n",
      "Mean Accuracy: 0.8196\n",
      "auc Scores for 10-Fold Cross-Validation:\n",
      "Mean auc: 0.8130\n"
     ]
    }
   ],
   "source": [
    "scores = cross_val_score(decisiontree, x, red_y, cv=kf, scoring='accuracy')\n",
    "print(f'Accuracy Scores for {k_folds}-Fold Cross-Validation:')\n",
    "mean_accuracy = scores.mean()\n",
    "print(f'Mean Accuracy: {mean_accuracy:.4f}')\n",
    "\n",
    "scores = cross_val_score(decisiontree, x, red_y, cv=kf, scoring='roc_auc')\n",
    "print(f'auc Scores for {k_folds}-Fold Cross-Validation:')\n",
    "mean_accuracy = scores.mean()\n",
    "print(f'Mean auc: {mean_accuracy:.4f}')"
   ]
  },
  {
   "cell_type": "code",
   "execution_count": 26,
   "id": "386aa5fb-a694-429b-910c-ac65079272d4",
   "metadata": {},
   "outputs": [],
   "source": [
    "linearsvc=LinearSVC(dual='auto')"
   ]
  },
  {
   "cell_type": "code",
   "execution_count": 27,
   "id": "2a45da27-5cbd-401d-87bf-e68f13a3b99f",
   "metadata": {},
   "outputs": [
    {
     "name": "stdout",
     "output_type": "stream",
     "text": [
      "Accuracy Scores for 10-Fold Cross-Validation:\n",
      "Mean Accuracy: 0.7864\n",
      "auc Scores for 10-Fold Cross-Validation:\n",
      "Mean auc: 0.8713\n"
     ]
    }
   ],
   "source": [
    "scores = cross_val_score(linearsvc, x, red_y, cv=kf, scoring='accuracy')\n",
    "print(f'Accuracy Scores for {k_folds}-Fold Cross-Validation:')\n",
    "mean_accuracy = scores.mean()\n",
    "print(f'Mean Accuracy: {mean_accuracy:.4f}')\n",
    "\n",
    "scores = cross_val_score(linearsvc, x, red_y, cv=kf, scoring='roc_auc')\n",
    "print(f'auc Scores for {k_folds}-Fold Cross-Validation:')\n",
    "mean_accuracy = scores.mean()\n",
    "print(f'Mean auc: {mean_accuracy:.4f}')"
   ]
  },
  {
   "cell_type": "code",
   "execution_count": 28,
   "id": "2c1b2d9e-7bbd-4264-8da5-63f04662db04",
   "metadata": {},
   "outputs": [],
   "source": [
    "rbfsvm = SVC(kernel='rbf')"
   ]
  },
  {
   "cell_type": "code",
   "execution_count": 29,
   "id": "5f53a5c7-f1c8-431c-adf7-e853a8d3b3aa",
   "metadata": {},
   "outputs": [
    {
     "name": "stdout",
     "output_type": "stream",
     "text": [
      "Accuracy Scores for 10-Fold Cross-Validation:\n",
      "Mean Accuracy: 0.5359\n",
      "auc Scores for 10-Fold Cross-Validation:\n",
      "Mean auc: 0.8556\n"
     ]
    }
   ],
   "source": [
    "scores = cross_val_score(rbfsvm, x, red_y, cv=kf, scoring='accuracy')\n",
    "print(f'Accuracy Scores for {k_folds}-Fold Cross-Validation:')\n",
    "mean_accuracy = scores.mean()\n",
    "print(f'Mean Accuracy: {mean_accuracy:.4f}')\n",
    "\n",
    "scores = cross_val_score(rbfsvm, x, red_y, cv=kf, scoring='roc_auc')\n",
    "print(f'auc Scores for {k_folds}-Fold Cross-Validation:')\n",
    "mean_accuracy = scores.mean()\n",
    "print(f'Mean auc: {mean_accuracy:.4f}')"
   ]
  },
  {
   "cell_type": "code",
   "execution_count": 30,
   "id": "9eecb9d1-d80a-4307-ac80-af38d08f9dbd",
   "metadata": {},
   "outputs": [],
   "source": [
    "nbclassifier = MultinomialNB()"
   ]
  },
  {
   "cell_type": "code",
   "execution_count": 31,
   "id": "cc96f4d9-a199-4f22-9c5b-90590cb8aa51",
   "metadata": {},
   "outputs": [
    {
     "name": "stdout",
     "output_type": "stream",
     "text": [
      "Accuracy Scores for 10-Fold Cross-Validation:\n",
      "Mean Accuracy: 0.5816\n",
      "auc Scores for 10-Fold Cross-Validation:\n",
      "Mean auc: 0.8481\n"
     ]
    }
   ],
   "source": [
    "scores = cross_val_score(nbclassifier, x, red_y, cv=kf, scoring='accuracy')\n",
    "print(f'Accuracy Scores for {k_folds}-Fold Cross-Validation:')\n",
    "mean_accuracy = scores.mean()\n",
    "print(f'Mean Accuracy: {mean_accuracy:.4f}')\n",
    "\n",
    "scores = cross_val_score(nbclassifier, x, red_y, cv=kf, scoring='roc_auc')\n",
    "print(f'auc Scores for {k_folds}-Fold Cross-Validation:')\n",
    "mean_accuracy = scores.mean()\n",
    "print(f'Mean auc: {mean_accuracy:.4f}')"
   ]
  },
  {
   "cell_type": "code",
   "execution_count": 32,
   "id": "ba173880-50e8-487e-9595-98ca8df5c88e",
   "metadata": {},
   "outputs": [],
   "source": [
    "forestclassifier= RandomForestClassifier()"
   ]
  },
  {
   "cell_type": "code",
   "execution_count": 33,
   "id": "0aa186ce-31f2-431c-85ac-8f4587812bb6",
   "metadata": {},
   "outputs": [
    {
     "name": "stdout",
     "output_type": "stream",
     "text": [
      "Accuracy Scores for 10-Fold Cross-Validation:\n",
      "Mean Accuracy: 0.8564\n",
      "auc Scores for 10-Fold Cross-Validation:\n",
      "Mean auc: 0.9343\n"
     ]
    }
   ],
   "source": [
    "scores = cross_val_score(forestclassifier, x, red_y, cv=kf, scoring='accuracy')\n",
    "print(f'Accuracy Scores for {k_folds}-Fold Cross-Validation:')\n",
    "mean_accuracy = scores.mean()\n",
    "print(f'Mean Accuracy: {mean_accuracy:.4f}')\n",
    "\n",
    "scores = cross_val_score(forestclassifier, x, red_y, cv=kf, scoring='roc_auc')\n",
    "print(f'auc Scores for {k_folds}-Fold Cross-Validation:')\n",
    "mean_accuracy = scores.mean()\n",
    "print(f'Mean auc: {mean_accuracy:.4f}')"
   ]
  },
  {
   "cell_type": "code",
   "execution_count": 34,
   "id": "c39bdd69-26ff-42ee-843f-2d6ec7309c5f",
   "metadata": {},
   "outputs": [
    {
     "name": "stdout",
     "output_type": "stream",
     "text": [
      "Accuracy Scores for 10-Fold Cross-Validation:\n",
      "Mean Accuracy: 0.5291\n",
      "auc Scores for 10-Fold Cross-Validation:\n",
      "Mean auc: 0.5000\n"
     ]
    }
   ],
   "source": [
    "dummy = DummyClassifier(strategy=\"most_frequent\");\n",
    "scores = cross_val_score(dummy, x, red_y, cv=kf, scoring='accuracy')\n",
    "print(f'Accuracy Scores for {k_folds}-Fold Cross-Validation:')\n",
    "mean_accuracy = scores.mean()\n",
    "print(f'Mean Accuracy: {mean_accuracy:.4f}')\n",
    "\n",
    "dummy = DummyClassifier(strategy=\"uniform\");\n",
    "scores = cross_val_score(dummy, x, red_y, cv=kf, scoring='roc_auc')\n",
    "print(f'auc Scores for {k_folds}-Fold Cross-Validation:')\n",
    "mean_accuracy = scores.mean()\n",
    "print(f'Mean auc: {mean_accuracy:.4f}')"
   ]
  },
  {
   "cell_type": "code",
   "execution_count": 35,
   "id": "67f22977-1a98-4e42-bace-0b3707e763b8",
   "metadata": {},
   "outputs": [
    {
     "data": {
      "text/html": [
       "<style>#sk-container-id-1 {color: black;}#sk-container-id-1 pre{padding: 0;}#sk-container-id-1 div.sk-toggleable {background-color: white;}#sk-container-id-1 label.sk-toggleable__label {cursor: pointer;display: block;width: 100%;margin-bottom: 0;padding: 0.3em;box-sizing: border-box;text-align: center;}#sk-container-id-1 label.sk-toggleable__label-arrow:before {content: \"▸\";float: left;margin-right: 0.25em;color: #696969;}#sk-container-id-1 label.sk-toggleable__label-arrow:hover:before {color: black;}#sk-container-id-1 div.sk-estimator:hover label.sk-toggleable__label-arrow:before {color: black;}#sk-container-id-1 div.sk-toggleable__content {max-height: 0;max-width: 0;overflow: hidden;text-align: left;background-color: #f0f8ff;}#sk-container-id-1 div.sk-toggleable__content pre {margin: 0.2em;color: black;border-radius: 0.25em;background-color: #f0f8ff;}#sk-container-id-1 input.sk-toggleable__control:checked~div.sk-toggleable__content {max-height: 200px;max-width: 100%;overflow: auto;}#sk-container-id-1 input.sk-toggleable__control:checked~label.sk-toggleable__label-arrow:before {content: \"▾\";}#sk-container-id-1 div.sk-estimator input.sk-toggleable__control:checked~label.sk-toggleable__label {background-color: #d4ebff;}#sk-container-id-1 div.sk-label input.sk-toggleable__control:checked~label.sk-toggleable__label {background-color: #d4ebff;}#sk-container-id-1 input.sk-hidden--visually {border: 0;clip: rect(1px 1px 1px 1px);clip: rect(1px, 1px, 1px, 1px);height: 1px;margin: -1px;overflow: hidden;padding: 0;position: absolute;width: 1px;}#sk-container-id-1 div.sk-estimator {font-family: monospace;background-color: #f0f8ff;border: 1px dotted black;border-radius: 0.25em;box-sizing: border-box;margin-bottom: 0.5em;}#sk-container-id-1 div.sk-estimator:hover {background-color: #d4ebff;}#sk-container-id-1 div.sk-parallel-item::after {content: \"\";width: 100%;border-bottom: 1px solid gray;flex-grow: 1;}#sk-container-id-1 div.sk-label:hover label.sk-toggleable__label {background-color: #d4ebff;}#sk-container-id-1 div.sk-serial::before {content: \"\";position: absolute;border-left: 1px solid gray;box-sizing: border-box;top: 0;bottom: 0;left: 50%;z-index: 0;}#sk-container-id-1 div.sk-serial {display: flex;flex-direction: column;align-items: center;background-color: white;padding-right: 0.2em;padding-left: 0.2em;position: relative;}#sk-container-id-1 div.sk-item {position: relative;z-index: 1;}#sk-container-id-1 div.sk-parallel {display: flex;align-items: stretch;justify-content: center;background-color: white;position: relative;}#sk-container-id-1 div.sk-item::before, #sk-container-id-1 div.sk-parallel-item::before {content: \"\";position: absolute;border-left: 1px solid gray;box-sizing: border-box;top: 0;bottom: 0;left: 50%;z-index: -1;}#sk-container-id-1 div.sk-parallel-item {display: flex;flex-direction: column;z-index: 1;position: relative;background-color: white;}#sk-container-id-1 div.sk-parallel-item:first-child::after {align-self: flex-end;width: 50%;}#sk-container-id-1 div.sk-parallel-item:last-child::after {align-self: flex-start;width: 50%;}#sk-container-id-1 div.sk-parallel-item:only-child::after {width: 0;}#sk-container-id-1 div.sk-dashed-wrapped {border: 1px dashed gray;margin: 0 0.4em 0.5em 0.4em;box-sizing: border-box;padding-bottom: 0.4em;background-color: white;}#sk-container-id-1 div.sk-label label {font-family: monospace;font-weight: bold;display: inline-block;line-height: 1.2em;}#sk-container-id-1 div.sk-label-container {text-align: center;}#sk-container-id-1 div.sk-container {/* jupyter's `normalize.less` sets `[hidden] { display: none; }` but bootstrap.min.css set `[hidden] { display: none !important; }` so we also need the `!important` here to be able to override the default hidden behavior on the sphinx rendered scikit-learn.org. See: https://github.com/scikit-learn/scikit-learn/issues/21755 */display: inline-block !important;position: relative;}#sk-container-id-1 div.sk-text-repr-fallback {display: none;}</style><div id=\"sk-container-id-1\" class=\"sk-top-container\"><div class=\"sk-text-repr-fallback\"><pre>RandomForestClassifier()</pre><b>In a Jupyter environment, please rerun this cell to show the HTML representation or trust the notebook. <br />On GitHub, the HTML representation is unable to render, please try loading this page with nbviewer.org.</b></div><div class=\"sk-container\" hidden><div class=\"sk-item\"><div class=\"sk-estimator sk-toggleable\"><input class=\"sk-toggleable__control sk-hidden--visually\" id=\"sk-estimator-id-1\" type=\"checkbox\" checked><label for=\"sk-estimator-id-1\" class=\"sk-toggleable__label sk-toggleable__label-arrow\">RandomForestClassifier</label><div class=\"sk-toggleable__content\"><pre>RandomForestClassifier()</pre></div></div></div></div></div>"
      ],
      "text/plain": [
       "RandomForestClassifier()"
      ]
     },
     "execution_count": 35,
     "metadata": {},
     "output_type": "execute_result"
    }
   ],
   "source": [
    "forestclassifier.fit(x,red_y)"
   ]
  },
  {
   "cell_type": "code",
   "execution_count": 36,
   "id": "62f60a92-5258-4893-ba5a-c467ae52f927",
   "metadata": {},
   "outputs": [],
   "source": [
    "y_pred=forestclassifier.predict(x)"
   ]
  },
  {
   "cell_type": "code",
   "execution_count": 37,
   "id": "58ffb699-f0fe-4329-be3b-5e64d9967e1e",
   "metadata": {},
   "outputs": [],
   "source": [
    "auc = roc_auc_score(red_y, y_pred)"
   ]
  },
  {
   "cell_type": "code",
   "execution_count": 38,
   "id": "9103cdc6-8b2c-4836-acac-0e0ec279615f",
   "metadata": {},
   "outputs": [],
   "source": [
    "fpr, tpr, thresholds = roc_curve(red_y, y_pred)"
   ]
  },
  {
   "cell_type": "code",
   "execution_count": 39,
   "id": "a60296a1-d8e9-42f3-95d8-4969fa77a36c",
   "metadata": {},
   "outputs": [
    {
     "data": {
      "image/png": "[encoded data removed]",
      "text/plain": [
       "<Figure size 800x600 with 1 Axes>"
      ]
     },
     "metadata": {},
     "output_type": "display_data"
    }
   ],
   "source": [
    "plt.figure(figsize=(8, 6))\n",
    "plt.plot(fpr, tpr, color='blue', lw=2, label='ROC curve (AUC = {:.2f})'.format(auc))\n",
    "plt.plot([0, 1], [0, 1], color='gray', linestyle='--')\n",
    "plt.xlim([0.0, 1.0])\n",
    "plt.ylim([0.0, 1.05])\n",
    "plt.xlabel('False Positive Rate (1 - Specificity)')\n",
    "plt.ylabel('True Positive Rate (Sensitivity)')\n",
    "plt.title('Red Wine ROC Curve')\n",
    "plt.legend(loc='lower right')\n",
    "plt.show()"
   ]
  },
  {
   "cell_type": "code",
   "execution_count": 40,
   "id": "b9622e75-94b3-421b-861c-1ba72452fb38",
   "metadata": {},
   "outputs": [],
   "source": [
    "y_pred= forestclassifier.predict(white_x)"
   ]
  },
  {
   "cell_type": "code",
   "execution_count": 41,
   "id": "b3a5b912-a2cc-4698-9eae-41c7d3c88d9c",
   "metadata": {},
   "outputs": [],
   "source": [
    "auc = roc_auc_score(white_y, y_pred)"
   ]
  },
  {
   "cell_type": "code",
   "execution_count": 42,
   "id": "153206a6-7ebd-4b59-8fa6-60345281808c",
   "metadata": {},
   "outputs": [],
   "source": [
    "fpr, tpr, thresholds = roc_curve(white_y, y_pred)"
   ]
  },
  {
   "cell_type": "code",
   "execution_count": 43,
   "id": "254ee370-ec0b-434b-8c18-63e5e89714a0",
   "metadata": {},
   "outputs": [
    {
     "data": {
      "image/png": "[encoded data removed]",
      "text/plain": [
       "<Figure size 800x600 with 1 Axes>"
      ]
     },
     "metadata": {},
     "output_type": "display_data"
    }
   ],
   "source": [
    "plt.figure(figsize=(8, 6))\n",
    "plt.plot(fpr, tpr, color='blue', lw=2, label='ROC curve (AUC = {:.2f})'.format(auc))\n",
    "plt.plot([0, 1], [0, 1], color='gray', linestyle='--')\n",
    "plt.xlim([0.0, 1.0])\n",
    "plt.ylim([0.0, 1.05])\n",
    "plt.xlabel('False Positive Rate (1 - Specificity)')\n",
    "plt.ylabel('True Positive Rate (Sensitivity)')\n",
    "plt.title('White Wine ROC Curve')\n",
    "plt.legend(loc='lower right')\n",
    "plt.show()"
   ]
  },
  {
   "cell_type": "code",
   "execution_count": null,
   "id": "73af2854-1531-463c-8bc6-7da378164c8f",
   "metadata": {},
   "outputs": [],
   "source": []
  }
 ],
 "metadata": {
  "kernelspec": {
   "display_name": "anaconda-panel-2023.05-py310",
   "language": "python",
   "name": "conda-env-anaconda-panel-2023.05-py310-py"
  },
  "language_info": {
   "codemirror_mode": {
    "name": "ipython",
    "version": 3
   },
   "file_extension": ".py",
   "mimetype": "text/x-python",
   "name": "python",
   "nbconvert_exporter": "python",
   "pygments_lexer": "ipython3",
   "version": "3.11.5"
  }
 },
 "nbformat": 4,
 "nbformat_minor": 5
}
